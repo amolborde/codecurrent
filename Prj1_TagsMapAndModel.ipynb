{
 "cells": [
  {
   "cell_type": "code",
   "execution_count": 1,
   "id": "0faa8a2c",
   "metadata": {},
   "outputs": [],
   "source": [
    "# Import libraries\n",
    "import numpy as np\n",
    "import pandas as pd\n",
    "import os\n",
    "import matplotlib.pyplot as plt\n",
    "import collections"
   ]
  },
  {
   "cell_type": "code",
   "execution_count": 2,
   "id": "2ebefd84",
   "metadata": {},
   "outputs": [
    {
     "name": "stdout",
     "output_type": "stream",
     "text": [
      "['Answers.csv', 'Questions.csv', 'Tags.csv']\n"
     ]
    }
   ],
   "source": [
    "# Display directory contents\n",
    "print(os.listdir(\"D://ClassAIML//DLWithPython//ClassNB//Projects//ClassProj1//stacksample\"))"
   ]
  },
  {
   "cell_type": "code",
   "execution_count": 3,
   "id": "3c7df07c",
   "metadata": {},
   "outputs": [],
   "source": [
    "# Load tags data\n",
    "df_tags = pd.read_csv('D://ClassAIML//DLWithPython//ClassNB//Projects//ClassProj1//stacksample/Tags.csv', encoding='iso-8859-1')"
   ]
  },
  {
   "cell_type": "code",
   "execution_count": 4,
   "id": "ae616380",
   "metadata": {},
   "outputs": [],
   "source": [
    "# Plotting top 10 tags\n",
    "def plot_tags(tagCount):\n",
    "    x, y = zip(*tagCount)\n",
    "    colormap = plt.cm.gist_ncar\n",
    "    colors = [colormap(i) for i in np.linspace(0, 0.8, 50)]   \n",
    "    area = [i / 4000 for i in y]\n",
    "    plt.figure(figsize=(9, 8))\n",
    "    plt.ylabel(\"Number of question associations\")\n",
    "    for i in range(len(y)):\n",
    "        plt.plot(i, y[i], marker='o', linestyle='', ms=area[i], label=x[i])\n",
    "    plt.legend(numpoints=1)\n",
    "    plt.show()"
   ]
  },
  {
   "cell_type": "code",
   "execution_count": 5,
   "id": "29656129",
   "metadata": {},
   "outputs": [
    {
     "name": "stdout",
     "output_type": "stream",
     "text": [
      "[('javascript', 124155), ('java', 115212), ('c#', 101186), ('php', 98808), ('android', 90659), ('jquery', 78542), ('python', 64601), ('html', 58976), ('c++', 47591), ('ios', 47009)]\n"
     ]
    },
    {
     "data": {
      "image/png": "[encoded data removed]",
      "text/plain": [
       "<Figure size 648x576 with 1 Axes>"
      ]
     },
     "metadata": {
      "needs_background": "light"
     },
     "output_type": "display_data"
    }
   ],
   "source": [
    "# Get top 10 most frequent tags\n",
    "tagCount = collections.Counter(df_tags['Tag']).most_common(10)\n",
    "print(tagCount)\n",
    "plot_tags(tagCount)"
   ]
  },
  {
   "cell_type": "code",
   "execution_count": 6,
   "id": "59b399a0",
   "metadata": {},
   "outputs": [],
   "source": [
    "# Define top 10 tags manually\n",
    "top10 = ['javascript', 'java', 'c#', 'php', 'android', 'jquery', 'python', 'html', 'c++', 'ios']"
   ]
  },
  {
   "cell_type": "code",
   "execution_count": 7,
   "id": "72f3c46f",
   "metadata": {},
   "outputs": [
    {
     "name": "stdout",
     "output_type": "stream",
     "text": [
      "(826739, 2)\n"
     ]
    }
   ],
   "source": [
    "# Filter dataset for only these top 10 tags\n",
    "tag_top10 = df_tags[df_tags.Tag.isin(top10)]\n",
    "print(tag_top10.shape)"
   ]
  },
  {
   "cell_type": "code",
   "execution_count": 8,
   "id": "95b600a6",
   "metadata": {},
   "outputs": [
    {
     "name": "stdout",
     "output_type": "stream",
     "text": [
      "30798790    5\n",
      "31085960    5\n",
      "11648170    5\n",
      "35318730    5\n",
      "4009250     5\n",
      "30289880    5\n",
      "23267320    5\n",
      "35283570    5\n",
      "30991580    5\n",
      "23484760    5\n",
      "Name: Id, dtype: int64\n"
     ]
    }
   ],
   "source": [
    "# Count the number of questions per tag\n",
    "print(tag_top10['Id'].value_counts().head(10))"
   ]
  },
  {
   "cell_type": "code",
   "execution_count": 9,
   "id": "09d847a5",
   "metadata": {},
   "outputs": [],
   "source": [
    "# Function to get all tags associated with a question Id\n",
    "def add_tags(question_row):\n",
    "    return tag_top10[tag_top10['Id'] == question_row['Id']].Tag.values"
   ]
  },
  {
   "cell_type": "code",
   "execution_count": 10,
   "id": "75e960be",
   "metadata": {},
   "outputs": [],
   "source": [
    "id_to_tags = tag_top10.groupby('Id')['Tag'].apply(list).to_dict()\n",
    "tag_top10 = tag_top10.drop_duplicates('Id').copy()\n",
    "tag_top10['Tags'] = tag_top10['Id'].map(id_to_tags)"
   ]
  },
  {
   "cell_type": "code",
   "execution_count": 11,
   "id": "34c6096f",
   "metadata": {},
   "outputs": [],
   "source": [
    "# Drop individual 'Tag' column as we now have combined 'Tags'\n",
    "tag_top10.drop([\"Tag\"], axis=1, inplace=True)"
   ]
  },
  {
   "cell_type": "code",
   "execution_count": 12,
   "id": "8b5a698b",
   "metadata": {},
   "outputs": [],
   "source": [
    "# Drop duplicates to avoid repeat entries\n",
    "tag_top10 = tag_top10.loc[tag_top10.astype(str).drop_duplicates().index]"
   ]
  },
  {
   "cell_type": "code",
   "execution_count": 13,
   "id": "5dcdd47e",
   "metadata": {},
   "outputs": [
    {
     "data": {
      "text/html": [
       "<div>\n",
       "<style scoped>\n",
       "    .dataframe tbody tr th:only-of-type {\n",
       "        vertical-align: middle;\n",
       "    }\n",
       "\n",
       "    .dataframe tbody tr th {\n",
       "        vertical-align: top;\n",
       "    }\n",
       "\n",
       "    .dataframe thead th {\n",
       "        text-align: right;\n",
       "    }\n",
       "</style>\n",
       "<table border=\"1\" class=\"dataframe\">\n",
       "  <thead>\n",
       "    <tr style=\"text-align: right;\">\n",
       "      <th></th>\n",
       "      <th>Id</th>\n",
       "      <th>OwnerUserId</th>\n",
       "      <th>CreationDate</th>\n",
       "      <th>ClosedDate</th>\n",
       "      <th>Score</th>\n",
       "      <th>Title</th>\n",
       "      <th>Body</th>\n",
       "    </tr>\n",
       "  </thead>\n",
       "  <tbody>\n",
       "    <tr>\n",
       "      <td>0</td>\n",
       "      <td>80</td>\n",
       "      <td>26.0</td>\n",
       "      <td>2008-08-01T13:57:07Z</td>\n",
       "      <td>NaN</td>\n",
       "      <td>26</td>\n",
       "      <td>SQLStatement.execute() - multiple queries in o...</td>\n",
       "      <td>I've written a database generation script in S...</td>\n",
       "    </tr>\n",
       "    <tr>\n",
       "      <td>1</td>\n",
       "      <td>90</td>\n",
       "      <td>58.0</td>\n",
       "      <td>2008-08-01T14:41:24Z</td>\n",
       "      <td>2012-12-26T03:45:49Z</td>\n",
       "      <td>144</td>\n",
       "      <td>Good branching and merging tutorials for Torto...</td>\n",
       "      <td>Are there any really good tutorials explaining...</td>\n",
       "    </tr>\n",
       "    <tr>\n",
       "      <td>2</td>\n",
       "      <td>120</td>\n",
       "      <td>83.0</td>\n",
       "      <td>2008-08-01T15:50:08Z</td>\n",
       "      <td>NaN</td>\n",
       "      <td>21</td>\n",
       "      <td>ASP.NET Site Maps</td>\n",
       "      <td>Has anyone got experience creating SQL-based A...</td>\n",
       "    </tr>\n",
       "    <tr>\n",
       "      <td>3</td>\n",
       "      <td>180</td>\n",
       "      <td>2089740.0</td>\n",
       "      <td>2008-08-01T18:42:19Z</td>\n",
       "      <td>NaN</td>\n",
       "      <td>53</td>\n",
       "      <td>Function for creating color wheels</td>\n",
       "      <td>This is something I've pseudo-solved many time...</td>\n",
       "    </tr>\n",
       "    <tr>\n",
       "      <td>4</td>\n",
       "      <td>260</td>\n",
       "      <td>91.0</td>\n",
       "      <td>2008-08-01T23:22:08Z</td>\n",
       "      <td>NaN</td>\n",
       "      <td>49</td>\n",
       "      <td>Adding scripting functionality to .NET applica...</td>\n",
       "      <td>I have a little game written in C#. It uses a ...</td>\n",
       "    </tr>\n",
       "  </tbody>\n",
       "</table>\n",
       "</div>"
      ],
      "text/plain": [
       "    Id  OwnerUserId          CreationDate            ClosedDate  Score  \\\n",
       "0   80         26.0  2008-08-01T13:57:07Z                   NaN     26   \n",
       "1   90         58.0  2008-08-01T14:41:24Z  2012-12-26T03:45:49Z    144   \n",
       "2  120         83.0  2008-08-01T15:50:08Z                   NaN     21   \n",
       "3  180    2089740.0  2008-08-01T18:42:19Z                   NaN     53   \n",
       "4  260         91.0  2008-08-01T23:22:08Z                   NaN     49   \n",
       "\n",
       "                                               Title  \\\n",
       "0  SQLStatement.execute() - multiple queries in o...   \n",
       "1  Good branching and merging tutorials for Torto...   \n",
       "2                                  ASP.NET Site Maps   \n",
       "3                 Function for creating color wheels   \n",
       "4  Adding scripting functionality to .NET applica...   \n",
       "\n",
       "                                                Body  \n",
       "0  I've written a database generation script in S...  \n",
       "1  Are there any really good tutorials explaining...  \n",
       "2  Has anyone got experience creating SQL-based A...  \n",
       "3  This is something I've pseudo-solved many time...  \n",
       "4  I have a little game written in C#. It uses a ...  "
      ]
     },
     "execution_count": 13,
     "metadata": {},
     "output_type": "execute_result"
    }
   ],
   "source": [
    "# Load question text data\n",
    "ques = pd.read_csv('D://ClassAIML//DLWithPython//ClassNB//Projects//ClassProj1//clean_questions.csv', encoding='iso-8859-1')\n",
    "ques.head()"
   ]
  },
  {
   "cell_type": "code",
   "execution_count": 14,
   "id": "e2215361",
   "metadata": {},
   "outputs": [
    {
     "name": "stdout",
     "output_type": "stream",
     "text": [
      "(706336, 8)\n"
     ]
    }
   ],
   "source": [
    "# Merge questions and tags on Id\n",
    "total = pd.merge(ques, tag_top10, on='Id')\n",
    "print(total.shape)"
   ]
  },
  {
   "cell_type": "code",
   "execution_count": 15,
   "id": "5c87ddee",
   "metadata": {},
   "outputs": [],
   "source": [
    "# Split into train and test sets\n",
    "from sklearn.model_selection import train_test_split\n",
    "from sklearn.preprocessing import MultiLabelBinarizer"
   ]
  },
  {
   "cell_type": "code",
   "execution_count": 16,
   "id": "d7dbc334",
   "metadata": {},
   "outputs": [],
   "source": [
    "# Binarize multi-label outputs\n",
    "mlb = MultiLabelBinarizer()\n",
    "mlb.fit(total['Tags'])\n",
    "labels = mlb.classes_"
   ]
  },
  {
   "cell_type": "code",
   "execution_count": 17,
   "id": "934564c3",
   "metadata": {},
   "outputs": [],
   "source": [
    "# Using only first 100,000 samples for faster execution initially (you can scale later)\n",
    "train, test = train_test_split(total[:300000], test_size=0.25, random_state=24)\n",
    "# Use entire dataset\n",
    "#train, test = train_test_split(total, test_size=0.25, random_state=24)"
   ]
  },
  {
   "cell_type": "code",
   "execution_count": 18,
   "id": "59293849",
   "metadata": {},
   "outputs": [],
   "source": [
    "# Extract title, body, and labels\n",
    "X_train_t = train['Title']\n",
    "X_train_b = train['Body']\n",
    "y_train = mlb.transform(train['Tags'])\n",
    "\n",
    "X_test_t = test['Title']\n",
    "X_test_b = test['Body']\n",
    "y_test = mlb.transform(test['Tags'])"
   ]
  },
  {
   "cell_type": "code",
   "execution_count": 19,
   "id": "fccff0d7",
   "metadata": {},
   "outputs": [
    {
     "name": "stderr",
     "output_type": "stream",
     "text": [
      "C:\\Users\\avbor\\Anaconda3\\lib\\site-packages\\sklearn\\feature_extraction\\image.py:167: DeprecationWarning: `np.int` is a deprecated alias for the builtin `int`. To silence this warning, use `int` by itself. Doing this will not modify any behavior and is safe. When replacing `np.int`, you may wish to use e.g. `np.int64` or `np.int32` to specify the precision. If you wish to review your current use, check the release note link for additional information.\n",
      "Deprecated in NumPy 1.20; for more details and guidance: https://numpy.org/devdocs/release/1.20.0-notes.html#deprecations\n",
      "  dtype=np.int):\n",
      "C:\\Users\\avbor\\Anaconda3\\lib\\site-packages\\sklearn\\linear_model\\least_angle.py:30: DeprecationWarning: `np.float` is a deprecated alias for the builtin `float`. To silence this warning, use `float` by itself. Doing this will not modify any behavior and is safe. If you specifically wanted the numpy scalar type, use `np.float64` here.\n",
      "Deprecated in NumPy 1.20; for more details and guidance: https://numpy.org/devdocs/release/1.20.0-notes.html#deprecations\n",
      "  method='lar', copy_X=True, eps=np.finfo(np.float).eps,\n",
      "C:\\Users\\avbor\\Anaconda3\\lib\\site-packages\\sklearn\\linear_model\\least_angle.py:167: DeprecationWarning: `np.float` is a deprecated alias for the builtin `float`. To silence this warning, use `float` by itself. Doing this will not modify any behavior and is safe. If you specifically wanted the numpy scalar type, use `np.float64` here.\n",
      "Deprecated in NumPy 1.20; for more details and guidance: https://numpy.org/devdocs/release/1.20.0-notes.html#deprecations\n",
      "  method='lar', copy_X=True, eps=np.finfo(np.float).eps,\n",
      "C:\\Users\\avbor\\Anaconda3\\lib\\site-packages\\sklearn\\linear_model\\least_angle.py:284: DeprecationWarning: `np.float` is a deprecated alias for the builtin `float`. To silence this warning, use `float` by itself. Doing this will not modify any behavior and is safe. If you specifically wanted the numpy scalar type, use `np.float64` here.\n",
      "Deprecated in NumPy 1.20; for more details and guidance: https://numpy.org/devdocs/release/1.20.0-notes.html#deprecations\n",
      "  eps=np.finfo(np.float).eps, copy_Gram=True, verbose=0,\n",
      "C:\\Users\\avbor\\Anaconda3\\lib\\site-packages\\sklearn\\linear_model\\least_angle.py:862: DeprecationWarning: `np.float` is a deprecated alias for the builtin `float`. To silence this warning, use `float` by itself. Doing this will not modify any behavior and is safe. If you specifically wanted the numpy scalar type, use `np.float64` here.\n",
      "Deprecated in NumPy 1.20; for more details and guidance: https://numpy.org/devdocs/release/1.20.0-notes.html#deprecations\n",
      "  eps=np.finfo(np.float).eps, copy_X=True, fit_path=True,\n",
      "C:\\Users\\avbor\\Anaconda3\\lib\\site-packages\\sklearn\\linear_model\\least_angle.py:1101: DeprecationWarning: `np.float` is a deprecated alias for the builtin `float`. To silence this warning, use `float` by itself. Doing this will not modify any behavior and is safe. If you specifically wanted the numpy scalar type, use `np.float64` here.\n",
      "Deprecated in NumPy 1.20; for more details and guidance: https://numpy.org/devdocs/release/1.20.0-notes.html#deprecations\n",
      "  eps=np.finfo(np.float).eps, copy_X=True, fit_path=True,\n",
      "C:\\Users\\avbor\\Anaconda3\\lib\\site-packages\\sklearn\\linear_model\\least_angle.py:1127: DeprecationWarning: `np.float` is a deprecated alias for the builtin `float`. To silence this warning, use `float` by itself. Doing this will not modify any behavior and is safe. If you specifically wanted the numpy scalar type, use `np.float64` here.\n",
      "Deprecated in NumPy 1.20; for more details and guidance: https://numpy.org/devdocs/release/1.20.0-notes.html#deprecations\n",
      "  eps=np.finfo(np.float).eps, positive=False):\n",
      "C:\\Users\\avbor\\Anaconda3\\lib\\site-packages\\sklearn\\linear_model\\least_angle.py:1362: DeprecationWarning: `np.float` is a deprecated alias for the builtin `float`. To silence this warning, use `float` by itself. Doing this will not modify any behavior and is safe. If you specifically wanted the numpy scalar type, use `np.float64` here.\n",
      "Deprecated in NumPy 1.20; for more details and guidance: https://numpy.org/devdocs/release/1.20.0-notes.html#deprecations\n",
      "  max_n_alphas=1000, n_jobs=None, eps=np.finfo(np.float).eps,\n",
      "C:\\Users\\avbor\\Anaconda3\\lib\\site-packages\\sklearn\\linear_model\\least_angle.py:1602: DeprecationWarning: `np.float` is a deprecated alias for the builtin `float`. To silence this warning, use `float` by itself. Doing this will not modify any behavior and is safe. If you specifically wanted the numpy scalar type, use `np.float64` here.\n",
      "Deprecated in NumPy 1.20; for more details and guidance: https://numpy.org/devdocs/release/1.20.0-notes.html#deprecations\n",
      "  max_n_alphas=1000, n_jobs=None, eps=np.finfo(np.float).eps,\n",
      "C:\\Users\\avbor\\Anaconda3\\lib\\site-packages\\sklearn\\linear_model\\least_angle.py:1738: DeprecationWarning: `np.float` is a deprecated alias for the builtin `float`. To silence this warning, use `float` by itself. Doing this will not modify any behavior and is safe. If you specifically wanted the numpy scalar type, use `np.float64` here.\n",
      "Deprecated in NumPy 1.20; for more details and guidance: https://numpy.org/devdocs/release/1.20.0-notes.html#deprecations\n",
      "  eps=np.finfo(np.float).eps, copy_X=True, positive=False):\n"
     ]
    }
   ],
   "source": [
    "# ---- Tokenizing Titles ----\n",
    "from nltk.tokenize import word_tokenize\n",
    "#from keras.preprocessing.text import Tokenizer\n",
    "\n",
    "from tensorflow.keras.preprocessing import sequence\n",
    "\n",
    "from tensorflow.keras.models import Model\n",
    "from tensorflow.keras.layers import GRU, Input, Embedding, Dense, Dropout, BatchNormalization, concatenate\n",
    "from tensorflow.keras.preprocessing.text import Tokenizer"
   ]
  },
  {
   "cell_type": "code",
   "execution_count": 20,
   "id": "5bdf2f64",
   "metadata": {},
   "outputs": [],
   "source": [
    "# Compute max length for padding\n",
    "sent_lens_t = X_train_t.apply(lambda x: len(word_tokenize(x)))\n",
    "max_len_t = int(np.quantile(sent_lens_t, 0.97))  # Covers 97% of sentences"
   ]
  },
  {
   "cell_type": "code",
   "execution_count": 21,
   "id": "aee9dffe",
   "metadata": {},
   "outputs": [],
   "source": [
    "# Tokenization and sequence transformation\n",
    "tok_t = Tokenizer()\n",
    "tok_t.fit_on_texts(X_train_t)\n",
    "vocab_len_t = len(tok_t.word_index)\n",
    "seq_train_t = sequence.pad_sequences(tok_t.texts_to_sequences(X_train_t), maxlen=max_len_t)\n",
    "seq_test_t = sequence.pad_sequences(tok_t.texts_to_sequences(X_test_t), maxlen=max_len_t)"
   ]
  },
  {
   "cell_type": "code",
   "execution_count": 22,
   "id": "05c3a9df",
   "metadata": {},
   "outputs": [],
   "source": [
    "# ---- Tokenizing Bodies ----\n",
    "sent_lens_b = X_train_b.apply(lambda x: len(word_tokenize(x)))\n",
    "max_len_b = int(np.quantile(sent_lens_b, 0.90))  # Covers 90% of bodies"
   ]
  },
  {
   "cell_type": "code",
   "execution_count": 23,
   "id": "dd8590a1",
   "metadata": {},
   "outputs": [],
   "source": [
    "tok_b = Tokenizer()\n",
    "tok_b.fit_on_texts(X_train_b)\n",
    "vocab_len_b = len(tok_b.word_index)\n",
    "seq_train_b = sequence.pad_sequences(tok_b.texts_to_sequences(X_train_b), maxlen=max_len_b)\n",
    "seq_test_b = sequence.pad_sequences(tok_b.texts_to_sequences(X_test_b), maxlen=max_len_b)"
   ]
  },
  {
   "cell_type": "code",
   "execution_count": 24,
   "id": "b82ee6c7",
   "metadata": {},
   "outputs": [],
   "source": [
    "# ---- Model Definition ----\n",
    "from keras.layers import GRU, Input, Embedding, Dense, Dropout, BatchNormalization, concatenate\n",
    "from keras.models import Model"
   ]
  },
  {
   "cell_type": "code",
   "execution_count": 25,
   "id": "a3fcb8a5",
   "metadata": {},
   "outputs": [],
   "source": [
    "def RNN():\n",
    "    # Title input pipeline\n",
    "    input_t = Input(shape=(max_len_t,), name='title_input')\n",
    "    x_t = Embedding(vocab_len_t + 1, 200, input_length=max_len_t, mask_zero=True)(input_t)\n",
    "    x_t = GRU(128)(x_t)  # Reduced units to speed up training\n",
    "    aux_out = Dense(10, activation='sigmoid', name='aux_output')(x_t)\n",
    "\n",
    "    # Body input pipeline\n",
    "    input_b = Input(shape=(max_len_b,), name='body_input')\n",
    "    x_b = Embedding(vocab_len_b + 1, 100, input_length=max_len_b, mask_zero=True)(input_b)\n",
    "    x_b = GRU(128)(x_b)\n",
    "\n",
    "    # Combined pipeline\n",
    "    x = concatenate([x_t, x_b])\n",
    "    x = Dense(256, activation='relu')(x)\n",
    "    x = Dropout(0.5)(x)\n",
    "    x = BatchNormalization()(x)\n",
    "    x = Dense(128, activation='relu')(x)\n",
    "    main_out = Dense(10, activation='sigmoid', name='main_output')(x)\n",
    "\n",
    "    return Model(inputs=[input_t, input_b], outputs=[main_out, aux_out])"
   ]
  },
  {
   "cell_type": "code",
   "execution_count": 26,
   "id": "a43a66f6",
   "metadata": {},
   "outputs": [],
   "source": [
    "# Compile and train model\n",
    "model = RNN()\n",
    "model.compile(optimizer='adam',\n",
    "              loss={'main_output': 'categorical_crossentropy', 'aux_output': 'categorical_crossentropy'},\n",
    "              metrics=['accuracy'])"
   ]
  },
  {
   "cell_type": "code",
   "execution_count": 27,
   "id": "42e491ed",
   "metadata": {},
   "outputs": [
    {
     "name": "stdout",
     "output_type": "stream",
     "text": [
      "Epoch 1/5\n",
      "440/440 [==============================] - 5548s 13s/step - loss: 7.4555 - main_output_loss: 5.3539 - aux_output_loss: 2.1016 - main_output_accuracy: 0.2918 - aux_output_accuracy: 0.4356 - val_loss: 12.0012 - val_main_output_loss: 9.8655 - val_aux_output_loss: 2.1357 - val_main_output_accuracy: 0.2547 - val_aux_output_accuracy: 0.4384\n",
      "Epoch 2/5\n",
      "440/440 [==============================] - 8733s 20s/step - loss: 35.8034 - main_output_loss: 33.7009 - aux_output_loss: 2.1025 - main_output_accuracy: 0.1533 - aux_output_accuracy: 0.4213 - val_loss: 29.9143 - val_main_output_loss: 27.7758 - val_aux_output_loss: 2.1385 - val_main_output_accuracy: 0.2069 - val_aux_output_accuracy: 0.4023\n",
      "Epoch 3/5\n",
      "440/440 [==============================] - 5598s 13s/step - loss: 101.3555 - main_output_loss: 99.2140 - aux_output_loss: 2.1415 - main_output_accuracy: 0.1260 - aux_output_accuracy: 0.4124 - val_loss: 106.2619 - val_main_output_loss: 104.1324 - val_aux_output_loss: 2.1295 - val_main_output_accuracy: 0.1670 - val_aux_output_accuracy: 0.4160\n",
      "Epoch 4/5\n",
      "440/440 [==============================] - 7529s 17s/step - loss: 211.5966 - main_output_loss: 209.4637 - aux_output_loss: 2.1330 - main_output_accuracy: 0.1119 - aux_output_accuracy: 0.4130 - val_loss: 325.9241 - val_main_output_loss: 323.7374 - val_aux_output_loss: 2.1868 - val_main_output_accuracy: 0.1191 - val_aux_output_accuracy: 0.4139\n",
      "Epoch 5/5\n",
      "440/440 [==============================] - 5228s 12s/step - loss: 358.8152 - main_output_loss: 356.6119 - aux_output_loss: 2.2035 - main_output_accuracy: 0.1076 - aux_output_accuracy: 0.4102 - val_loss: 433.4326 - val_main_output_loss: 431.1909 - val_aux_output_loss: 2.2415 - val_main_output_accuracy: 0.1286 - val_aux_output_accuracy: 0.4092\n"
     ]
    }
   ],
   "source": [
    "# Fit model (Batch size can be reduced as needed for performance)\n",
    "results = model.fit(\n",
    "    {'title_input': seq_train_t, 'body_input': seq_train_b},\n",
    "    {'main_output': y_train, 'aux_output': y_train},\n",
    "    validation_data=(\n",
    "        {'title_input': seq_test_t, 'body_input': seq_test_b},\n",
    "        {'main_output': y_test, 'aux_output': y_test}\n",
    "    ),\n",
    "    epochs=5,\n",
    "    batch_size=512  # Batch size can be reduced as needed for performance, like 512\n",
    ")"
   ]
  },
  {
   "cell_type": "code",
   "execution_count": 28,
   "id": "4079d88b",
   "metadata": {},
   "outputs": [
    {
     "name": "stdout",
     "output_type": "stream",
     "text": [
      "2344/2344 [==============================] - 336s 142ms/step\n"
     ]
    }
   ],
   "source": [
    "# Evaluate performance\n",
    "pred_main, pred_aux = model.predict({'title_input': seq_test_t, 'body_input': seq_test_b}, verbose=1)"
   ]
  },
  {
   "cell_type": "code",
   "execution_count": 29,
   "id": "bb136a42",
   "metadata": {},
   "outputs": [],
   "source": [
    "from sklearn.metrics import classification_report, f1_score"
   ]
  },
  {
   "cell_type": "code",
   "execution_count": 30,
   "id": "a306d537",
   "metadata": {},
   "outputs": [
    {
     "name": "stdout",
     "output_type": "stream",
     "text": [
      "Sample-wise F1 score: 0.2034163614163614\n",
      "              precision    recall  f1-score   support\n",
      "\n",
      "     android       0.12      1.00      0.22      9268\n",
      "          c#       0.17      1.00      0.29     12628\n",
      "         c++       0.08      1.00      0.14      5643\n",
      "        html       0.07      1.00      0.13      5332\n",
      "         ios       0.06      1.00      0.11      4297\n",
      "        java       0.16      1.00      0.27     11744\n",
      "  javascript       0.15      1.00      0.26     11108\n",
      "      jquery       0.12      1.00      0.22      9267\n",
      "         php       0.15      1.00      0.26     11030\n",
      "      python       0.07      1.00      0.14      5579\n",
      "\n",
      "   micro avg       0.11      1.00      0.21     85896\n",
      "   macro avg       0.11      1.00      0.20     85896\n",
      "weighted avg       0.13      1.00      0.22     85896\n",
      " samples avg       0.11      1.00      0.20     85896\n",
      "\n"
     ]
    }
   ],
   "source": [
    "# Threshold outputs to generate predictions\n",
    "print(\"Sample-wise F1 score:\", f1_score(y_test, pred_main > 0.5, average='samples'))\n",
    "print(classification_report(y_test, pred_main > 0.5, target_names=labels))"
   ]
  },
  {
   "cell_type": "code",
   "execution_count": 31,
   "id": "341e07b2",
   "metadata": {},
   "outputs": [],
   "source": [
    "model.save('./tags_stackoverflow25052025.h5')"
   ]
  }
 ],
 "metadata": {
  "kernelspec": {
   "display_name": "Python 3",
   "language": "python",
   "name": "python3"
  },
  "language_info": {
   "codemirror_mode": {
    "name": "ipython",
    "version": 3
   },
   "file_extension": ".py",
   "mimetype": "text/x-python",
   "name": "python",
   "nbconvert_exporter": "python",
   "pygments_lexer": "ipython3",
   "version": "3.7.4"
  }
 },
 "nbformat": 4,
 "nbformat_minor": 5
}
