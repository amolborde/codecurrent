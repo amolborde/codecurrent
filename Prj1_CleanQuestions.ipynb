{
 "cells": [
  {
   "cell_type": "code",
   "execution_count": null,
   "id": "c3f75118",
   "metadata": {},
   "outputs": [],
   "source": [
    "#This Python script will remove the html tags from Questions.csv and make clear version of it available for processing\n",
    "\n",
    "import numpy as np\n",
    "import pandas as pd"
   ]
  },
  {
   "cell_type": "code",
   "execution_count": null,
   "id": "387a75c8",
   "metadata": {},
   "outputs": [],
   "source": [
    "import collections"
   ]
  },
  {
   "cell_type": "code",
   "execution_count": null,
   "id": "e69ca2b0",
   "metadata": {},
   "outputs": [],
   "source": [
    "ques = pd.read_csv('D://ClassAIML//DLWithPython//ClassNB//Projects//ClassProj1//stacksample//Questions.csv',encoding='iso-8859-1')\n",
    "ques.head(10)"
   ]
  },
  {
   "cell_type": "code",
   "execution_count": null,
   "id": "6b065df6",
   "metadata": {},
   "outputs": [],
   "source": [
    "import re \n",
    "def remove_html_tags(body):\n",
    "    regex = re.compile('<.*?>')\n",
    "    return re.sub(regex, '', body)"
   ]
  },
  {
   "cell_type": "code",
   "execution_count": null,
   "id": "049eab9a",
   "metadata": {},
   "outputs": [],
   "source": [
    "ques['Body'] = ques['Body'].apply(remove_html_tags)\n",
    "ques.head()"
   ]
  },
  {
   "cell_type": "code",
   "execution_count": null,
   "id": "bd5de217",
   "metadata": {},
   "outputs": [],
   "source": [
    "ques.to_csv('D://ClassAIML//DLWithPython//ClassNB//Projects//ClassProj1//clean_questions.csv',index=False)"
   ]
  }
 ],
 "metadata": {
  "kernelspec": {
   "display_name": "Python 3",
   "language": "python",
   "name": "python3"
  },
  "language_info": {
   "codemirror_mode": {
    "name": "ipython",
    "version": 3
   },
   "file_extension": ".py",
   "mimetype": "text/x-python",
   "name": "python",
   "nbconvert_exporter": "python",
   "pygments_lexer": "ipython3",
   "version": "3.7.4"
  }
 },
 "nbformat": 4,
 "nbformat_minor": 5
}
